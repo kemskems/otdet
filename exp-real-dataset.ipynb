{
 "metadata": {
  "name": "",
  "signature": "sha256:492aab8f8a387071b5ab52556eff66f3a5e5c74bb41e54f41fbb8f080dd22e70"
 },
 "nbformat": 3,
 "nbformat_minor": 0,
 "worksheets": [
  {
   "cells": [
    {
     "cell_type": "markdown",
     "metadata": {},
     "source": [
      "Sekarang mau coba eksperimen dengan dataset real. Dataset diambil dari forum MacForums dan saya sendiri yang menilai mana yang off-topic."
     ]
    },
    {
     "cell_type": "code",
     "collapsed": false,
     "input": [
      "from glob import glob\n",
      "import os.path\n",
      "\n",
      "from otdet.detector import OOTDetector\n",
      "from otdet.feature_extraction import CountVectorizerWrapper"
     ],
     "language": "python",
     "metadata": {},
     "outputs": [],
     "prompt_number": 1
    },
    {
     "cell_type": "code",
     "collapsed": false,
     "input": [
      "files = glob('datasets/macforums/311794__Whats-the-Deal-with-Apple-and-Flash/*.txt')"
     ],
     "language": "python",
     "metadata": {},
     "outputs": [],
     "prompt_number": 2
    },
    {
     "cell_type": "code",
     "collapsed": false,
     "input": [
      "files"
     ],
     "language": "python",
     "metadata": {},
     "outputs": [
      {
       "metadata": {},
       "output_type": "pyout",
       "prompt_number": 3,
       "text": [
        "['datasets/macforums/311794__Whats-the-Deal-with-Apple-and-Flash/post-0.txt',\n",
        " 'datasets/macforums/311794__Whats-the-Deal-with-Apple-and-Flash/post-1.txt',\n",
        " 'datasets/macforums/311794__Whats-the-Deal-with-Apple-and-Flash/post-10.oot.txt',\n",
        " 'datasets/macforums/311794__Whats-the-Deal-with-Apple-and-Flash/post-11.oot.txt',\n",
        " 'datasets/macforums/311794__Whats-the-Deal-with-Apple-and-Flash/post-12.oot.txt',\n",
        " 'datasets/macforums/311794__Whats-the-Deal-with-Apple-and-Flash/post-13.txt',\n",
        " 'datasets/macforums/311794__Whats-the-Deal-with-Apple-and-Flash/post-14.txt',\n",
        " 'datasets/macforums/311794__Whats-the-Deal-with-Apple-and-Flash/post-2.txt',\n",
        " 'datasets/macforums/311794__Whats-the-Deal-with-Apple-and-Flash/post-3.txt',\n",
        " 'datasets/macforums/311794__Whats-the-Deal-with-Apple-and-Flash/post-4.oot.txt',\n",
        " 'datasets/macforums/311794__Whats-the-Deal-with-Apple-and-Flash/post-5.oot.txt',\n",
        " 'datasets/macforums/311794__Whats-the-Deal-with-Apple-and-Flash/post-6.txt',\n",
        " 'datasets/macforums/311794__Whats-the-Deal-with-Apple-and-Flash/post-7.txt',\n",
        " 'datasets/macforums/311794__Whats-the-Deal-with-Apple-and-Flash/post-8.txt',\n",
        " 'datasets/macforums/311794__Whats-the-Deal-with-Apple-and-Flash/post-9.txt']"
       ]
      }
     ],
     "prompt_number": 3
    },
    {
     "cell_type": "code",
     "collapsed": false,
     "input": [
      "documents = []\n",
      "for file_ in files:\n",
      "    with open(file_) as f:\n",
      "        documents.append(f.read())"
     ],
     "language": "python",
     "metadata": {},
     "outputs": [],
     "prompt_number": 4
    },
    {
     "cell_type": "code",
     "collapsed": false,
     "input": [
      "is_oot = [False, False, True, True, True, False, False, False, False, True, True, False, False, False, False]"
     ],
     "language": "python",
     "metadata": {},
     "outputs": [],
     "prompt_number": 5
    },
    {
     "cell_type": "code",
     "collapsed": false,
     "input": [
      "documents"
     ],
     "language": "python",
     "metadata": {},
     "outputs": [
      {
       "metadata": {},
       "output_type": "pyout",
       "prompt_number": 6,
       "text": [
        "['As from what I have been told, Flash has existed for around 20 years. It is theorized to soon be obsolete and will be replaced by HTML5 . Also, Apple adopted the best decision in not supporting Flash. \\n\\nNot supporting Flash- What does that really mean? Surely you can download Adobe Flash into your Mac OS. You need Flash to watch YouTube in addition to many other websites. I do not quite understand this. So I guess Macs can still play Flash but does not have it readily available in a newly purchased Mac. Which simply means that Apple does not fancy Flash, yet allow users the permission to install it. Is that right? \\n\\nAnother thing. Tablets and iPads from what I have heard do not support Flash and you CANNOT download Flash on it. Yet, how can an iPad view YouTube if it does not have Flash?\\n',\n",
        " \"Flash has never been included in any OS (Windows, Linux or OS X) by default. You've always had to download it separately. Chrome includes a version of Flash which means you don't have to download it..\\n\\nApple has been pushing HTML5 for a while due in part for the fact that it sin't as resource intensive as Flash is and is more flexible.\\n\\nEither way, its your machine, you want Flash to watch videos on sites that don't support HTML5 (YouTube DOES support it), then download Flash and enjoy.\\n\\niOS devices have never included Flash. Additionally, Adobe has stopped working on the mobile version of Flash as well. The YouTube client and many video sites on the web detect the fact that the viewer is an iOS device and actually use MP4 video files instead of Flash.\\n\",\n",
        " \"I want to understand something. There are so many people on here, such as yourself, answering questions on an hourly basis. How does that work? I mean, do you randomly check this website everyday and look for questions to answer. I'm sure you're quite busy with your Android/Windows project\\n\",\n",
        " 'One of the things of doing the kind of work that I do is the need for distractions. If I were to just sit and code for 8 hours straight, my brain would leak out of my ears..\\n\\nSo every 15-20 mins or so, apart from taking a break from the screen, walking around, checking on my team and so on I get on here to see if there are any posts I can reply to and then get back to work..\\n',\n",
        " \"Most people go on Facebook, play online games or walk to another cubicle and talk to a friend to take a break at work. \\nYou go onto Mac-Forum [which is a good thing for us ]. But, that's like Mike Tyson hitting the punching bag after a title fight...to take a break. That's ferocious computer passion.\\n\",\n",
        " \"Part of my job is creating videos for YouTube. When I encode a video I use an mp4 format which is a very universally compatible format for just about any device. Years back it was all about Flash and that is what I used. \\n\\nYouTube use to accept what ever you sent it and if your computer did not run flash you got an error message telling you to go download it. Now YouTube will upload your video and re-encode it into several formats for maximum compatibility across all platforms. \\n\\nFlash has proven over and over to have security issues which is why several years back they did not support it. If I recall correctly, Steve Jobs got into a tiff with Adobe and would not allow Flash on an Apple device legitimately. (Correct me if I am remembering this wrong.) He was also a big supporter of the HTML5 format.\\n\\nI don't add Flash to any of my machines anymore. I run both windows and mac platforms now and I haven't seen a reason to have it. \\n\\nAnyway, I too am another of the legions who sit in front of her computer all day and take breaks by visiting forums. This one has become my favorite because of the tons of information and all the nice people.\\n\\nLisa\\n\",\n",
        " \"Lisa, you are remembering correctly about Steve Jobs not wanting Flash on the iPhone until Adobe addressed the security issues and more importantly the performance issues. Adobe didn't care very much for that and figured they had leverage, but had to close down their mobile Flash work, so who was right all along? \\n\\n@simonvee, I do the other things as well but sometimes I end up in a mode where I have to build code and that can take some time which gives me a breather to peruse the forums..\\n\",\n",
        " \"Oh yeh, that's right. I always had to download and install Flash on my Windows computer. \\n\\nI misunderstood the concept before and thought that Apple does not allow installation of Flash period. I took the word 'support' in the sense of 'compatibility' as opposed to 'condone'\\n\\nOh I see. So if we watch YouTube with our phone, YouTube detects that we are using a phone so it streams MP4. In contrast, when we watch YouTube with our Mac, it streams via the Flash that we have manually installed. I wonder why YouTube did not make it universal and stream MP4 for when we are watching with our Mac as well....\\n\",\n",
        " \"No OS vendor is going to explicitly deny installation of any piece of software. Take Java for example, OS X used to include it for a while and now they don't. Again, if you need it, there is an easy way of getting it..\\n\\nDevices like iPhone/iPod Touch/Android and so on support a set of video/audio formats..MP4, VP8, MP3, OGG, WAV and so on. So if you stream data in those formats the devices will handle it no problem.\\n\\nOn the other hand computers (based on the OS) can support some combination of those formats, and others have to be installed, thus the original use of Flash to play videos and now the use of HTML5 which doesn't require downloading anything more a recent browser..\\n\",\n",
        " 'Out of the topic but I feel sorry for the IT students who have to learn Java. Appears it will become obsolete in the near future.\\n',\n",
        " 'Unlikely...\\n\\n\\n\\nAndroid uses Java as its language..\\n',\n",
        " \"You're right, quite unlikely. \\n\\nSo why doesn't YouTube, the most popular video streaming site, stream through HTML5 instead of Flash? After all, you said that Flash require less resources and is more flexible.\\n\",\n",
        " 'https://www.youtube.com/html5\\n',\n",
        " \"Oh, it does support HTML5. The reason for my confusion is I had to download Flash in order to watch YouTube via Firefox.\\n\\nIf it's not too personal, what do you do for a living? Are you in the IT industry? Just out of curiosity\\n\",\n",
        " \"HTML5 isn't enabled by default on YouTube, so if you visit with Firefox you'll be prompted to download Flash, but if you'd enabled HTML5 it would've been fine. Additionally, if you'd used Chrome you'd never have been prompted at all..\\n\\nHehe, why, does it show?  Yes, I'm a technical software engineering manager, which basically means that I'm a SW manager who codes.. Interestingly, currently working on porting to Android to Windows..but that's a very long off-topic discussion..\\n\"]"
       ]
      }
     ],
     "prompt_number": 6
    },
    {
     "cell_type": "code",
     "collapsed": false,
     "input": [
      "extractor = CountVectorizerWrapper(input='content', stop_words='english')\n",
      "detector = OOTDetector(extractor=extractor)"
     ],
     "language": "python",
     "metadata": {},
     "outputs": [],
     "prompt_number": 7
    },
    {
     "cell_type": "markdown",
     "metadata": {},
     "source": [
      "Jadi, di sini yang dipake itu metode yang paling bagus, yaitu `txt_comp_dist`, dan pengukuran jarak `euclidean` karena sesuai dengan hasil eksperimen sebelumnya kalau `euclidean` unggul saat ukuran thread kecil, sekitar 10. Ini kan lumayan kecil juga cuma 15 tulisan."
     ]
    },
    {
     "cell_type": "code",
     "collapsed": false,
     "input": [
      "distances = detector.txt_comp_dist(documents, metric='euclidean')"
     ],
     "language": "python",
     "metadata": {},
     "outputs": [],
     "prompt_number": 8
    },
    {
     "cell_type": "code",
     "collapsed": false,
     "input": [
      "distances"
     ],
     "language": "python",
     "metadata": {},
     "outputs": [
      {
       "metadata": {},
       "output_type": "pyout",
       "prompt_number": 9,
       "text": [
        "array([ 34.62657939,  35.31288717,  50.10987927,  50.5074252 ,\n",
        "        50.3487835 ,  39.0256326 ,  47.57099957,  42.46174749,\n",
        "        46.72258554,  50.98038839,  50.90186637,  46.97871859,\n",
        "        50.22947342,  47.57099957,  47.19110086])"
       ]
      }
     ],
     "prompt_number": 9
    },
    {
     "cell_type": "code",
     "collapsed": false,
     "input": [
      "ranked = sorted(zip(distances, is_oot), reverse=True)"
     ],
     "language": "python",
     "metadata": {},
     "outputs": [],
     "prompt_number": 10
    },
    {
     "cell_type": "code",
     "collapsed": false,
     "input": [
      "ranked"
     ],
     "language": "python",
     "metadata": {},
     "outputs": [
      {
       "metadata": {},
       "output_type": "pyout",
       "prompt_number": 11,
       "text": [
        "[(50.980388386123543, True),\n",
        " (50.90186637049765, True),\n",
        " (50.507425196697561, True),\n",
        " (50.34878350069642, True),\n",
        " (50.229473419497438, False),\n",
        " (50.109879265470198, True),\n",
        " (47.570999569065187, False),\n",
        " (47.570999569065187, False),\n",
        " (47.191100855987671, False),\n",
        " (46.97871858618538, False),\n",
        " (46.722585544894663, False),\n",
        " (42.461747491124292, False),\n",
        " (39.025632602175712, False),\n",
        " (35.312887166019152, False),\n",
        " (34.62657938636157, False)]"
       ]
      }
     ],
     "prompt_number": 11
    },
    {
     "cell_type": "markdown",
     "metadata": {},
     "source": [
      "Jadi, hasilnya bagus juga ya ternyata..."
     ]
    }
   ],
   "metadata": {}
  }
 ]
}